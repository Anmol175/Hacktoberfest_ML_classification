{
  "nbformat": 4,
  "nbformat_minor": 0,
  "metadata": {
    "colab": {
      "name": "ManasDalakoti_F2.ipynb",
      "provenance": [],
      "collapsed_sections": []
    },
    "kernelspec": {
      "name": "python3",
      "display_name": "Python 3"
    }
  },
  "cells": [
    {
      "cell_type": "code",
      "metadata": {
        "id": "QZEPJJsBHL7y",
        "colab_type": "code",
        "colab": {}
      },
      "source": [
        "Sample Submission."
      ],
      "execution_count": null,
      "outputs": []
    }
  ]
}
